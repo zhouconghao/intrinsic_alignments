{
 "cells": [
  {
   "cell_type": "code",
   "execution_count": 8,
   "metadata": {},
   "outputs": [],
   "source": [
    "import numpy as np\n",
    "import fitsio as fio\n",
    "import matplotlib.pyplot as plt\n",
    "import galsim as galsim"
   ]
  },
  {
   "cell_type": "code",
   "execution_count": 9,
   "metadata": {},
   "outputs": [],
   "source": [
    "cent = fio.FITS('/lsst/troxel/y1a1/lgt20_central_p20_fmasked.fits')[-1] # Central galaxy catalog\n",
    "sat = fio.FITS('/lsst/troxel/y1a1/lgt20_satellite_p20_fmasked.fits')[-1] # Satellite galaxy catalog\n",
    "clus_pa = fio.FITS('/lsst/troxel/y1a1/lgt20_clus_ang_2mom.fits')[-1] # Cluster position angle array"
   ]
  },
  {
   "cell_type": "code",
   "execution_count": 10,
   "metadata": {},
   "outputs": [],
   "source": [
    "s = 10 # size of cutout (s by s square) in arcminutes\n",
    "pixel_scale = 10 # size of pixel in arcseconds"
   ]
  },
  {
   "cell_type": "code",
   "execution_count": 11,
   "metadata": {},
   "outputs": [],
   "source": [
    "sat_id_unq, counts = np.unique(sat['MEM_MATCH_ID'].read(), return_counts=True)\n",
    "clus_n = len(sat_id_unq)\n",
    "sat_max = np.amax(counts)"
   ]
  },
  {
   "cell_type": "code",
   "execution_count": 12,
   "metadata": {},
   "outputs": [],
   "source": [
    "# Create 2D array for specified property of all satellite galaxies\n",
    "def sat_prop(prop):\n",
    "    sat_prop_full = sat[prop].read()\n",
    "    new_array = np.zeros((clus_n,sat_max))\n",
    "    k = 0\n",
    "    for i in range(clus_n):\n",
    "        new_array[i, 0:counts[i]] = sat_prop_full[k:k+counts[i]]\n",
    "        new_array[i, counts[i]:] = np.nan\n",
    "        k = k + counts[i]\n",
    "    \n",
    "    return new_array"
   ]
  },
  {
   "cell_type": "code",
   "execution_count": 13,
   "metadata": {},
   "outputs": [],
   "source": [
    "# Read in values\n",
    "cent_ra = np.deg2rad(cent['RA'].read().reshape((clus_n, -1)))\n",
    "cent_dec = np.deg2rad(cent['DEC'].read().reshape((clus_n, -1)))\n",
    "sat_ra = np.deg2rad(sat_prop('RA'))\n",
    "sat_dec = np.deg2rad(sat_prop('DEC'))\n",
    "clus_ang = clus_pa.read().reshape((clus_n, -1))"
   ]
  },
  {
   "cell_type": "code",
   "execution_count": 14,
   "metadata": {},
   "outputs": [],
   "source": [
    "# Calculate satellite angular position for all clusters\n",
    "def sat_ang_pos():\n",
    "    x = np.sin(sat_dec) * np.cos(cent_dec) - np.cos(sat_dec) * np.sin(cent_dec) * np.cos(sat_ra-cent_ra)\n",
    "    y = np.sin(sat_ra-cent_ra) * np.cos(sat_dec)\n",
    "    theta = np.arctan2(y, x)\n",
    "    \n",
    "    return theta"
   ]
  },
  {
   "cell_type": "code",
   "execution_count": 15,
   "metadata": {},
   "outputs": [],
   "source": [
    "def mom_2(p, x, y, a, b):\n",
    "    mom_top = p*a*b/(x**2+y**2)\n",
    "    mom_sum = np.sum(np.nan_to_num(mom_top))/np.sum(np.nan_to_num(p))\n",
    "    \n",
    "    return mom_sum"
   ]
  },
  {
   "cell_type": "code",
   "execution_count": 16,
   "metadata": {},
   "outputs": [],
   "source": [
    "def clus_pa():\n",
    "    sat_ang = sat_ang_pos()\n",
    "    p_i = sat_prop('P') * sat_prop('PFREE')\n",
    "    x_i = sat_prop('R') * np.cos(sat_ang)\n",
    "    y_i = sat_prop('R') * np.sin(sat_ang)\n",
    "    m_xx = mom_2(p_i, x_i, y_i, x_i, x_i)\n",
    "    m_xy = mom_2(p_i, x_i, y_i, x_i, y_i)\n",
    "    m_yy = mom_2(p_i, x_i, y_i, y_i, y_i)\n",
    "    beta = np.arctan2(2*m_xy, (m_xx-m_yy)) / 2\n",
    "    \n",
    "    return m_xx, m_xy, m_yy, beta"
   ]
  },
  {
   "cell_type": "code",
   "execution_count": 17,
   "metadata": {},
   "outputs": [],
   "source": [
    "xx, xy, yy, pa = clus_pa()"
   ]
  },
  {
   "cell_type": "code",
   "execution_count": 18,
   "metadata": {},
   "outputs": [],
   "source": [
    "e1 = xx - yy\n",
    "e2 = 2*xy"
   ]
  },
  {
   "cell_type": "code",
   "execution_count": 19,
   "metadata": {},
   "outputs": [
    {
     "data": {
      "text/plain": [
       "(-0.0014023127233585564, 0.0026461645307308103)"
      ]
     },
     "execution_count": 19,
     "metadata": {},
     "output_type": "execute_result"
    }
   ],
   "source": [
    "e1, e2"
   ]
  },
  {
   "cell_type": "code",
   "execution_count": 20,
   "metadata": {},
   "outputs": [],
   "source": [
    "e_mag = np.sqrt(e1**2 + e2**2)"
   ]
  },
  {
   "cell_type": "code",
   "execution_count": 21,
   "metadata": {},
   "outputs": [
    {
     "data": {
      "text/plain": [
       "0.002994773396734902"
      ]
     },
     "execution_count": 21,
     "metadata": {},
     "output_type": "execute_result"
    }
   ],
   "source": [
    "e_mag"
   ]
  },
  {
   "cell_type": "code",
   "execution_count": 22,
   "metadata": {},
   "outputs": [
    {
     "data": {
      "text/plain": [
       "58.96048917533365"
      ]
     },
     "execution_count": 22,
     "metadata": {},
     "output_type": "execute_result"
    }
   ],
   "source": [
    "np.rad2deg(pa)"
   ]
  },
  {
   "cell_type": "code",
   "execution_count": 23,
   "metadata": {},
   "outputs": [],
   "source": [
    "# Adjust RA values to be close to zero\n",
    "cent_ra_mask = cent_ra > np.pi\n",
    "cent_ra[cent_ra_mask] -= 2 * np.pi\n",
    "sat_nan_mask = np.isnan(sat_ra)\n",
    "sat_ra[sat_nan_mask] = -999\n",
    "sat_ra_mask = sat_ra > np.pi\n",
    "sat_ra[sat_ra_mask] -= 2 * np.pi\n",
    "sat_ra[sat_ra==-999] = np.nan"
   ]
  },
  {
   "cell_type": "code",
   "execution_count": 24,
   "metadata": {},
   "outputs": [],
   "source": [
    "# Compute sin and cos of angles for rotation\n",
    "sin_neg = np.sin(-clus_ang)\n",
    "cos_neg = np.cos(-clus_ang)"
   ]
  },
  {
   "cell_type": "code",
   "execution_count": 25,
   "metadata": {},
   "outputs": [],
   "source": [
    "# Compute satellite distance from central\n",
    "y = (sat_ra - cent_ra) * np.cos(cent_dec)\n",
    "x = sat_dec - cent_dec"
   ]
  },
  {
   "cell_type": "code",
   "execution_count": 26,
   "metadata": {},
   "outputs": [],
   "source": [
    "# Rotate satellites about centrals so major axis is at 0\n",
    "dec_rot = cos_neg * x - sin_neg * y\n",
    "ra_rot = sin_neg * x + cos_neg * y"
   ]
  },
  {
   "cell_type": "code",
   "execution_count": 27,
   "metadata": {},
   "outputs": [],
   "source": [
    "# Mask nans from rotated RA/Dec values\n",
    "ra_nan_mask = ~np.isnan(ra_rot)\n",
    "ra_rot = ra_rot[ra_nan_mask]\n",
    "dec_nan_mask = ~np.isnan(dec_rot)\n",
    "dec_rot = dec_rot[dec_nan_mask]"
   ]
  },
  {
   "cell_type": "code",
   "execution_count": 28,
   "metadata": {},
   "outputs": [
    {
     "data": {
      "image/png": "[encoded data removed]",
      "text/plain": [
       "<Figure size 432x288 with 1 Axes>"
      ]
     },
     "metadata": {
      "needs_background": "light"
     },
     "output_type": "display_data"
    }
   ],
   "source": [
    "# Plot stacked satellites\n",
    "plt.scatter(ra_rot, dec_rot)\n",
    "plt.show()"
   ]
  },
  {
   "cell_type": "code",
   "execution_count": 29,
   "metadata": {},
   "outputs": [
    {
     "data": {
      "image/png": "[encoded data removed]",
      "text/plain": [
       "<Figure size 432x288 with 2 Axes>"
      ]
     },
     "metadata": {
      "needs_background": "light"
     },
     "output_type": "display_data"
    }
   ],
   "source": [
    "# Create 2d histogram\n",
    "h, xedges, yedges, image = plt.hist2d(ra_rot, dec_rot, bins=2*s*60//pixel_scale, range=[[np.deg2rad(-s/60), np.deg2rad(s/60)], [np.deg2rad(-s/60), np.deg2rad(s/60)]])\n",
    "plt.colorbar()\n",
    "plt.show()"
   ]
  },
  {
   "cell_type": "code",
   "execution_count": 30,
   "metadata": {},
   "outputs": [
    {
     "data": {
      "image/png": "[encoded data removed]",
      "text/plain": [
       "<Figure size 432x288 with 2 Axes>"
      ]
     },
     "metadata": {
      "needs_background": "light"
     },
     "output_type": "display_data"
    }
   ],
   "source": [
    "# Show histogram as image\n",
    "plt.imshow(h, origin='lower')\n",
    "plt.colorbar()\n",
    "plt.show()"
   ]
  },
  {
   "cell_type": "code",
   "execution_count": 31,
   "metadata": {},
   "outputs": [],
   "source": [
    "#log_h = h\n",
    "#h_mask = log_h > 0\n",
    "#log_h[h_mask] = np.log(log_h[h_mask])"
   ]
  },
  {
   "cell_type": "code",
   "execution_count": 32,
   "metadata": {},
   "outputs": [],
   "source": [
    "def measure_shape_moments(img_array, pixel_scale):\n",
    "\n",
    "    BAD_MEASUREMENT = 1\n",
    "    CENTROID_SHIFT  = 2\n",
    "    MAX_CENTROID_SHIFT = 1.\n",
    "\n",
    "    out = np.zeros(1,dtype=[('e1','f4')]+[('e2','f4')]+[('T','f4')]+[('dx','f4')]+[('dy','f4')]+[('flag','i2')])\n",
    "\n",
    "    M = e1 = e2 = 0\n",
    "    im = galsim.Image(img_array, xmin=1, ymin=1, wcs=galsim.PixelScale(pixel_scale))\n",
    "\n",
    "    try:\n",
    "        shape_data = im.FindAdaptiveMom(weight=None, strict=False)\n",
    "    except:\n",
    "        out['flag'] |= BAD_MEASUREMENT\n",
    "        return out\n",
    "\n",
    "    if shape_data.moments_status != 0:\n",
    "        out['flag'] |= BAD_MEASUREMENT\n",
    "        return out\n",
    "\n",
    "    out['dx'] = shape_data.moments_centroid.x - im.true_center.x\n",
    "    out['dy'] = shape_data.moments_centroid.y - im.true_center.y\n",
    "    if out['dx']**2 + out['dy']**2 > MAX_CENTROID_SHIFT**2:\n",
    "        out['flag'] |= CENTROID_SHIFT\n",
    "        return out\n",
    "\n",
    "    # Account for the image wcs\n",
    "    if im.wcs.isPixelScale():\n",
    "        out['e1'] = shape_data.observed_shape.g1\n",
    "        out['e2'] = shape_data.observed_shape.g2\n",
    "        out['T']  = 2 * shape_data.moments_sigma**2 * im.scale**2\n",
    "    else:\n",
    "        e1    = shape_data.observed_shape.e1\n",
    "        e2    = shape_data.observed_shape.e2\n",
    "        s     = shape_data.moments_sigma\n",
    "        jac   = im.wcs.jacobian(im.true_center)\n",
    "        M     = np.matrix( [[ 1 + e1, e2 ], [ e2, 1 - e1 ]] ) * s*s\n",
    "        J     = jac.getMatrix()\n",
    "        M     = J * M * J.T\n",
    "        scale = np.sqrt(M/2./s/s)\n",
    "        e1    = old_div((M[0,0] - M[1,1]), (M[0,0] + M[1,1]))\n",
    "        e2    = old_div((2.*M[0,1]), (M[0,0] + M[1,1]))\n",
    "        shear = galsim.Shear(e1=e1, e2=e2)\n",
    "        out['T']  = M[0,0] + M[1,1]\n",
    "        out['e1'] = shear.g1\n",
    "        out['e2'] = shear.g2\n",
    "\n",
    "    return out, shape_data"
   ]
  },
  {
   "cell_type": "code",
   "execution_count": 33,
   "metadata": {},
   "outputs": [],
   "source": [
    "out, shape_data = measure_shape_moments(h, pixel_scale)"
   ]
  },
  {
   "cell_type": "code",
   "execution_count": 34,
   "metadata": {},
   "outputs": [
    {
     "data": {
      "text/plain": [
       "array([(0.34830585, 0.00043398, 4167.1885, -0.00766213, 0.01404758, 0)],\n",
       "      dtype=[('e1', '<f4'), ('e2', '<f4'), ('T', '<f4'), ('dx', '<f4'), ('dy', '<f4'), ('flag', '<i2')])"
      ]
     },
     "execution_count": 34,
     "metadata": {},
     "output_type": "execute_result"
    }
   ],
   "source": [
    "out"
   ]
  },
  {
   "cell_type": "code",
   "execution_count": 35,
   "metadata": {},
   "outputs": [
    {
     "data": {
      "text/plain": [
       "0.3483061215852096"
      ]
     },
     "execution_count": 35,
     "metadata": {},
     "output_type": "execute_result"
    }
   ],
   "source": [
    "np.sqrt(out[0][0]**2 + out[0][1]**2)"
   ]
  },
  {
   "cell_type": "code",
   "execution_count": 36,
   "metadata": {},
   "outputs": [
    {
     "data": {
      "text/plain": [
       "0.03569452854372636"
      ]
     },
     "execution_count": 36,
     "metadata": {},
     "output_type": "execute_result"
    }
   ],
   "source": [
    "np.rad2deg(shape_data.observed_shape.beta.rad)"
   ]
  },
  {
   "cell_type": "code",
   "execution_count": 37,
   "metadata": {},
   "outputs": [],
   "source": [
    "g = shape_data.observed_shape.g"
   ]
  },
  {
   "cell_type": "code",
   "execution_count": 38,
   "metadata": {},
   "outputs": [
    {
     "data": {
      "text/plain": [
       "0.48334266797559494"
      ]
     },
     "execution_count": 38,
     "metadata": {},
     "output_type": "execute_result"
    }
   ],
   "source": [
    "((1-g)/(1+g))"
   ]
  }
 ],
 "metadata": {
  "kernelspec": {
   "display_name": "Python 3",
   "language": "python",
   "name": "python3"
  },
  "language_info": {
   "codemirror_mode": {
    "name": "ipython",
    "version": 3
   },
   "file_extension": ".py",
   "mimetype": "text/x-python",
   "name": "python",
   "nbconvert_exporter": "python",
   "pygments_lexer": "ipython3",
   "version": "3.7.2"
  }
 },
 "nbformat": 4,
 "nbformat_minor": 2
}
